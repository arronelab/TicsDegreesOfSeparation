{
 "cells": [
  {
   "cell_type": "code",
   "execution_count": 1,
   "id": "a9e4ba81",
   "metadata": {},
   "outputs": [],
   "source": [
    "import networkx as nx\n",
    "import pandas as pd\n",
    "import random\n",
    "import plotly.graph_objects as go\n",
    "from pyvis.network import Network\n",
    "pd.options.mode.chained_assignment = None"
   ]
  },
  {
   "cell_type": "code",
   "execution_count": 39,
   "id": "bb43d33c",
   "metadata": {},
   "outputs": [],
   "source": [
    "### Don't need now that graph is saved\n",
    "'''\n",
    "df = pd.read_csv('player_data.csv')\n",
    "df['From'] = pd.to_datetime(df['From'])\n",
    "df['To'] = pd.to_datetime(df['To'])\n",
    "\n",
    "# Create a graph\n",
    "G = nx.Graph()\n",
    "\n",
    "# Add nodes to the graph\n",
    "G.add_nodes_from(df['Name'])\n",
    "G.add_nodes_from(df['Team'])\n",
    "\n",
    "# Iterate through DataFrame and add edges based on conditions\n",
    "for i in range(len(df)):\n",
    "    G.add_edge(df.loc[i, 'Name'], df.loc[i, 'Team'])\n",
    "    for j in range(i + 1, len(df)):\n",
    "        if df.loc[i, 'Team'] == df.loc[j, 'Team'] and \\\n",
    "           ((df.loc[i, 'From'] <= df.loc[j, 'To'] and df.loc[j, 'From'] <= df.loc[i, 'To']) or\n",
    "           (df.loc[j, 'From'] <= df.loc[i, 'To'] and df.loc[i, 'From'] <= df.loc[j, 'To'])):\n",
    "            G.add_edge(df.loc[i, 'Name'], df.loc[j, 'Name'])\n",
    "'''"
   ]
  },
  {
   "cell_type": "code",
   "execution_count": 59,
   "id": "ad86f5bc",
   "metadata": {},
   "outputs": [],
   "source": [
    "# load graph object from file\n",
    "G = pickle.load(open('player_graph.pickle', 'rb'))"
   ]
  },
  {
   "cell_type": "code",
   "execution_count": 40,
   "id": "91df2ce6",
   "metadata": {},
   "outputs": [
    {
     "data": {
      "text/plain": [
       "\"\\n# Create plotly figure\\nfig = go.Figure()\\n\\n# Add edges\\nfig.add_trace(go.Scatter(\\n    x=edge_x, y=edge_y,\\n    line=dict(width=0.5, color='#888'),\\n    hoverinfo='none',\\n    mode='lines'))\\n\\n# Create node_text with vertex names\\nnode_text = list(G.nodes)\\n\\n# Create node colors based on node degree\\nnode_degrees = dict(G.degree)\\nnode_colors = [node_degrees[node] for node in G.nodes]\\n\\n# Add nodes\\nfig.add_trace(go.Scatter(\\n    x=node_x, y=node_y,\\n    mode='markers',\\n    hoverinfo='text',\\n    text=node_text,\\n    marker=dict(\\n        showscale=False,\\n        color=node_colors,\\n        size=10\\n    )\\n))\\n\\n# Add node labels\\nnode_adjacencies = []\\nfor node, adjacencies in enumerate(G.adjacency()):\\n    node_adjacencies.append(len(adjacencies[1]))\\n\\nfig.update_traces(\\n    textposition='top center',\\n    marker=dict(\\n        line=dict(color='rgb(255,255,255)', width=2)\\n    ))\\n\\nfig.update_layout(\\n    showlegend=False,\\n    hovermode='closest',\\n    margin=dict(b=0, l=0, r=0, t=0),\\n    xaxis=dict(showgrid=False, zeroline=False, showticklabels=False),\\n    yaxis=dict(showgrid=False, zeroline=False, showticklabels=False))\\n\\nfig.show()\\n\""
      ]
     },
     "execution_count": 40,
     "metadata": {},
     "output_type": "execute_result"
    }
   ],
   "source": [
    "# Layout for plotly graph\n",
    "pos = nx.spring_layout(G)\n",
    "\n",
    "# Extract node positions for plotly\n",
    "node_positions = {node: pos[node] for node in G.nodes}\n",
    "\n",
    "# Create edges\n",
    "edge_x = []\n",
    "edge_y = []\n",
    "for edge in G.edges():\n",
    "    x0, y0 = node_positions[edge[0]]\n",
    "    x1, y1 = node_positions[edge[1]]\n",
    "    edge_x.extend([x0, x1, None])\n",
    "    edge_y.extend([y0, y1, None])\n",
    "\n",
    "# Create nodes\n",
    "node_x = [pos[node][0] for node in G.nodes]\n",
    "node_y = [pos[node][1] for node in G.nodes]\n",
    "\n",
    "'''\n",
    "# Create plotly figure\n",
    "fig = go.Figure()\n",
    "\n",
    "# Add edges\n",
    "fig.add_trace(go.Scatter(\n",
    "    x=edge_x, y=edge_y,\n",
    "    line=dict(width=0.5, color='#888'),\n",
    "    hoverinfo='none',\n",
    "    mode='lines'))\n",
    "\n",
    "# Create node_text with vertex names\n",
    "node_text = list(G.nodes)\n",
    "\n",
    "# Create node colors based on node degree\n",
    "node_degrees = dict(G.degree)\n",
    "node_colors = [node_degrees[node] for node in G.nodes]\n",
    "\n",
    "# Add nodes\n",
    "fig.add_trace(go.Scatter(\n",
    "    x=node_x, y=node_y,\n",
    "    mode='markers',\n",
    "    hoverinfo='text',\n",
    "    text=node_text,\n",
    "    marker=dict(\n",
    "        showscale=False,\n",
    "        color=node_colors,\n",
    "        size=10\n",
    "    )\n",
    "))\n",
    "\n",
    "# Add node labels\n",
    "node_adjacencies = []\n",
    "for node, adjacencies in enumerate(G.adjacency()):\n",
    "    node_adjacencies.append(len(adjacencies[1]))\n",
    "\n",
    "fig.update_traces(\n",
    "    textposition='top center',\n",
    "    marker=dict(\n",
    "        line=dict(color='rgb(255,255,255)', width=2)\n",
    "    ))\n",
    "\n",
    "fig.update_layout(\n",
    "    showlegend=False,\n",
    "    hovermode='closest',\n",
    "    margin=dict(b=0, l=0, r=0, t=0),\n",
    "    xaxis=dict(showgrid=False, zeroline=False, showticklabels=False),\n",
    "    yaxis=dict(showgrid=False, zeroline=False, showticklabels=False))\n",
    "\n",
    "fig.show()\n",
    "'''"
   ]
  },
  {
   "cell_type": "code",
   "execution_count": 41,
   "id": "05ee2c4d",
   "metadata": {},
   "outputs": [
    {
     "name": "stdout",
     "output_type": "stream",
     "text": [
      "The minimum distance from Lewis Brunt to Wigan is: 3\n",
      "The shortest path is: Lewis Brunt -> Louis Reed -> Jamie Walker -> Wigan\n"
     ]
    }
   ],
   "source": [
    "source_node = random.choice(list(G.nodes()))\n",
    "target_node = 'Wigan'\n",
    "\n",
    "# Find the shortest path\n",
    "shortest_path = nx.shortest_path(G, source=source_node, target=target_node)\n",
    "shortest_path = ' -> '.join(shortest_path)\n",
    "# Find the minimum distance\n",
    "min_distance = nx.shortest_path_length(G, source=source_node, target=target_node)\n",
    "\n",
    "# Print the result\n",
    "print(f\"The minimum distance from {source_node} to {target_node} is: {min_distance}\")\n",
    "print(f\"The shortest path is: {shortest_path}\")"
   ]
  },
  {
   "cell_type": "code",
   "execution_count": 42,
   "id": "a6860612",
   "metadata": {},
   "outputs": [
    {
     "name": "stdout",
     "output_type": "stream",
     "text": [
      "Node with the highest degree centrality: Luke Thomas\n",
      "Degree centrality value: 0.07034142328259976\n"
     ]
    }
   ],
   "source": [
    "# Compute degree centrality for each node\n",
    "degree_centrality = nx.degree_centrality(G)\n",
    "\n",
    "# Find the node with the highest degree centrality\n",
    "max_degree_centrality_node = max(degree_centrality, key=degree_centrality.get)\n",
    "\n",
    "# Print the result\n",
    "print(\"Node with the highest degree centrality:\", max_degree_centrality_node)\n",
    "print(\"Degree centrality value:\", degree_centrality[max_degree_centrality_node])"
   ]
  },
  {
   "cell_type": "code",
   "execution_count": 43,
   "id": "27517072",
   "metadata": {},
   "outputs": [
    {
     "name": "stdout",
     "output_type": "stream",
     "text": [
      "Degree centrality of Wigan: 0.02509255450431921\n"
     ]
    }
   ],
   "source": [
    "# Find the degree centrality of the target node\n",
    "degree_centrality_target = degree_centrality.get(target_node, 0)\n",
    "\n",
    "# Print the result\n",
    "print(f\"Degree centrality of {target_node}: {degree_centrality_target}\")"
   ]
  },
  {
   "cell_type": "code",
   "execution_count": 44,
   "id": "33c6e472",
   "metadata": {},
   "outputs": [
    {
     "name": "stdout",
     "output_type": "stream",
     "text": [
      "Node with the highest betweenness centrality: Luke Thomas\n",
      "Betweenness centrality value: 0.00996904059513063\n"
     ]
    }
   ],
   "source": [
    "# Compute betweenness centrality for each node\n",
    "betweenness_centrality = nx.betweenness_centrality(G)\n",
    "\n",
    "# Find the node with the highest degree centrality\n",
    "max_betweenness_centrality_node = max(betweenness_centrality, key=betweenness_centrality.get)\n",
    "\n",
    "# Print the result\n",
    "print(\"Node with the highest betweenness centrality:\", max_betweenness_centrality_node)\n",
    "print(\"Betweenness centrality value:\", betweenness_centrality[max_betweenness_centrality_node])"
   ]
  },
  {
   "cell_type": "code",
   "execution_count": 45,
   "id": "8920a03b",
   "metadata": {},
   "outputs": [
    {
     "name": "stdout",
     "output_type": "stream",
     "text": [
      "Betweenness centrality of Wigan: 0.00031730102002832256\n"
     ]
    }
   ],
   "source": [
    "# Find the betweenness centrality of the target node\n",
    "betweenness_centrality_target = betweenness_centrality.get(target_node, 0)\n",
    "\n",
    "# Print the result\n",
    "print(f\"Betweenness centrality of {target_node}: {betweenness_centrality_target}\")"
   ]
  },
  {
   "cell_type": "code",
   "execution_count": 46,
   "id": "d893a584",
   "metadata": {},
   "outputs": [
    {
     "name": "stdout",
     "output_type": "stream",
     "text": [
      "test.html\n"
     ]
    }
   ],
   "source": [
    "# Plot with pyvis\n",
    "net = Network(\n",
    "    directed = False,\n",
    "    select_menu = False, # Show part 1 in the plot (optional)\n",
    "    filter_menu = False, # Show part 2 in the plot (optional)\n",
    ")\n",
    "#net.show_buttons() # Show part 3 in the plot (optional)\n",
    "net.from_nx(G) # Create directly from nx graph\n",
    "net.show('test.html', notebook=False)"
   ]
  },
  {
   "cell_type": "code",
   "execution_count": 48,
   "id": "ebae5c29",
   "metadata": {},
   "outputs": [
    {
     "ename": "NetworkXError",
     "evalue": "Graph is not connected.",
     "output_type": "error",
     "traceback": [
      "\u001b[1;31m---------------------------------------------------------------------------\u001b[0m",
      "\u001b[1;31mNetworkXError\u001b[0m                             Traceback (most recent call last)",
      "Cell \u001b[1;32mIn[48], line 1\u001b[0m\n\u001b[1;32m----> 1\u001b[0m ds\u001b[38;5;241m=\u001b[39mnx\u001b[38;5;241m.\u001b[39malgorithms\u001b[38;5;241m.\u001b[39mshortest_paths\u001b[38;5;241m.\u001b[39mgeneric\u001b[38;5;241m.\u001b[39maverage_shortest_path_length(G)\n\u001b[0;32m      2\u001b[0m \u001b[38;5;28mprint\u001b[39m(\u001b[38;5;124m\"\u001b[39m\u001b[38;5;124mThe degree of separation on average between any two footballers is \u001b[39m\u001b[38;5;124m\"\u001b[39m\u001b[38;5;241m+\u001b[39m\u001b[38;5;28mstr\u001b[39m(ds))\n",
      "File \u001b[1;32mC:\\ProgramData\\anaconda3\\Lib\\site-packages\\networkx\\algorithms\\shortest_paths\\generic.py:404\u001b[0m, in \u001b[0;36maverage_shortest_path_length\u001b[1;34m(G, weight, method)\u001b[0m\n\u001b[0;32m    402\u001b[0m     \u001b[38;5;28;01mraise\u001b[39;00m nx\u001b[38;5;241m.\u001b[39mNetworkXError(\u001b[38;5;124m\"\u001b[39m\u001b[38;5;124mGraph is not weakly connected.\u001b[39m\u001b[38;5;124m\"\u001b[39m)\n\u001b[0;32m    403\u001b[0m \u001b[38;5;28;01mif\u001b[39;00m \u001b[38;5;129;01mnot\u001b[39;00m G\u001b[38;5;241m.\u001b[39mis_directed() \u001b[38;5;129;01mand\u001b[39;00m \u001b[38;5;129;01mnot\u001b[39;00m nx\u001b[38;5;241m.\u001b[39mis_connected(G):\n\u001b[1;32m--> 404\u001b[0m     \u001b[38;5;28;01mraise\u001b[39;00m nx\u001b[38;5;241m.\u001b[39mNetworkXError(\u001b[38;5;124m\"\u001b[39m\u001b[38;5;124mGraph is not connected.\u001b[39m\u001b[38;5;124m\"\u001b[39m)\n\u001b[0;32m    406\u001b[0m \u001b[38;5;66;03m# Compute all-pairs shortest paths.\u001b[39;00m\n\u001b[0;32m    407\u001b[0m \u001b[38;5;28;01mdef\u001b[39;00m \u001b[38;5;21mpath_length\u001b[39m(v):\n",
      "\u001b[1;31mNetworkXError\u001b[0m: Graph is not connected."
     ]
    }
   ],
   "source": [
    "ds=nx.algorithms.shortest_paths.generic.average_shortest_path_length(G)\n",
    "print(\"The degree of separation on average between any two footballers is \"+str(ds))"
   ]
  },
  {
   "cell_type": "code",
   "execution_count": 53,
   "id": "2535640f",
   "metadata": {},
   "outputs": [],
   "source": [
    "min_cc = min(nx.connected_components(G),key=len)"
   ]
  },
  {
   "cell_type": "code",
   "execution_count": 54,
   "id": "340bc4ad",
   "metadata": {},
   "outputs": [
    {
     "data": {
      "text/plain": [
       "{'Ashton Fox', 'Peterborough Sports'}"
      ]
     },
     "execution_count": 54,
     "metadata": {},
     "output_type": "execute_result"
    }
   ],
   "source": [
    "min_cc"
   ]
  },
  {
   "cell_type": "code",
   "execution_count": null,
   "id": "18e1e4ec",
   "metadata": {},
   "outputs": [],
   "source": []
  }
 ],
 "metadata": {
  "kernelspec": {
   "display_name": "Python 3 (ipykernel)",
   "language": "python",
   "name": "python3"
  },
  "language_info": {
   "codemirror_mode": {
    "name": "ipython",
    "version": 3
   },
   "file_extension": ".py",
   "mimetype": "text/x-python",
   "name": "python",
   "nbconvert_exporter": "python",
   "pygments_lexer": "ipython3",
   "version": "3.11.3"
  }
 },
 "nbformat": 4,
 "nbformat_minor": 5
}
